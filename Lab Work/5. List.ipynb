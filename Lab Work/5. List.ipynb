{
 "cells": [
  {
   "cell_type": "markdown",
   "metadata": {},
   "source": [
    "\n",
    "<a href='https://www.darshan.ac.in/'> <img src='https://www.darshan.ac.in/Content/media/DU_Logo.svg' width=\"250\" height=\"300\"/></a>\n",
    "<pre>\n",
    "<center><b><h1>Python Programming - 2101CS405</b></center>\n",
    "<center><b><h1>Lab - 5</b></center>    \n",
    "<pre>"
   ]
  },
  {
   "cell_type": "markdown",
   "metadata": {},
   "source": [
    "# list"
   ]
  },
  {
   "cell_type": "markdown",
   "metadata": {},
   "source": [
    "### 01) WAP to find sum of all the elements in List."
   ]
  },
  {
   "cell_type": "code",
   "execution_count": 8,
   "metadata": {},
   "outputs": [
    {
     "name": "stdout",
     "output_type": "stream",
     "text": [
      "55\n"
     ]
    }
   ],
   "source": [
    "my_list = [1,2,3,4,5,6,7,8,9,10]\n",
    "sum=0\n",
    "for i in range(0,len(my_list)):\n",
    "    sum += my_list[i]\n",
    "print(sum)"
   ]
  },
  {
   "cell_type": "markdown",
   "metadata": {},
   "source": [
    "### 02) WAP to find largest element in a List."
   ]
  },
  {
   "cell_type": "code",
   "execution_count": 9,
   "metadata": {},
   "outputs": [
    {
     "name": "stdout",
     "output_type": "stream",
     "text": [
      "[1, 2, 3, 4, 5]\n",
      "5\n"
     ]
    }
   ],
   "source": [
    "list = []\n",
    "n = int(input(\"Enter size : \"))\n",
    "for i in range(0, n):\n",
    "    x = int(input())\n",
    "    list.append(x)\n",
    "print(list)\n",
    "max=list[0];\n",
    "for i in range(1,n):\n",
    "    if list[i] > max:\n",
    "        max=list[i]\n",
    "print(max)"
   ]
  },
  {
   "cell_type": "markdown",
   "metadata": {},
   "source": [
    "### 03) WAP to split the List into two and append the first part to the end."
   ]
  },
  {
   "cell_type": "code",
   "execution_count": 12,
   "metadata": {},
   "outputs": [
    {
     "name": "stdout",
     "output_type": "stream",
     "text": [
      "[1, 2, 3, 4, 5, 6, 7]\n",
      "4 5 6 7 1 2 3 "
     ]
    }
   ],
   "source": [
    "import math\n",
    "list = []\n",
    "n = int(input(\"Enter size : \"))\n",
    "for i in range(0, n):\n",
    "    x = int(input())\n",
    "    list.append(x)\n",
    "print(list)\n",
    "n = len(list)\n",
    "pos = math.floor(n/2)\n",
    "x = list[:pos]\n",
    "y = list[pos:]\n",
    "y.extend(x)\n",
    "for i in y:\n",
    "    print(i, end=\" \")"
   ]
  },
  {
   "cell_type": "markdown",
   "metadata": {},
   "source": [
    "### 04) WAP to interchange first and last elements in list entered by a user."
   ]
  },
  {
   "cell_type": "code",
   "execution_count": 13,
   "metadata": {},
   "outputs": [
    {
     "name": "stdout",
     "output_type": "stream",
     "text": [
      "[1, 2, 3, 4, 5]\n",
      "[5, 2, 3, 4, 1]\n"
     ]
    }
   ],
   "source": [
    "list = []\n",
    "n = int(input(\"Enter size : \"))\n",
    "for i in range(0, n):\n",
    "    x = int(input())\n",
    "    list.append(x)\n",
    "print(list)\n",
    "temp=list[0]\n",
    "list[0]=list[n-1]\n",
    "list[n-1]=temp\n",
    "print(list)"
   ]
  },
  {
   "cell_type": "markdown",
   "metadata": {},
   "source": [
    "### 05) WAP to interchange the elements on two positions entered by a user."
   ]
  },
  {
   "cell_type": "code",
   "execution_count": 14,
   "metadata": {},
   "outputs": [
    {
     "name": "stdout",
     "output_type": "stream",
     "text": [
      "[1, 2, 3]\n",
      "[3, 2, 1]\n"
     ]
    }
   ],
   "source": [
    "list = []\n",
    "n = int(input(\"Enter size : \"))\n",
    "for i in range(0, n):\n",
    "    x = int(input())\n",
    "    list.append(x)\n",
    "print(list)\n",
    "i1 = int(input(\"Enter first index : \"))\n",
    "i2 = int(input(\"Enter second index : \"))\n",
    "temp=list[i1]\n",
    "list[i1]=list[i2]\n",
    "list[i2]=temp\n",
    "print(list)"
   ]
  },
  {
   "cell_type": "markdown",
   "metadata": {},
   "source": [
    "### 06) WAP to reverses the list entered by user."
   ]
  },
  {
   "cell_type": "code",
   "execution_count": 18,
   "metadata": {},
   "outputs": [
    {
     "name": "stdout",
     "output_type": "stream",
     "text": [
      "[1, 2, 3, 4, 5]\n",
      "[5, 4, 3, 2, 1]\n"
     ]
    }
   ],
   "source": [
    "import math\n",
    "list = []\n",
    "n = int(input(\"Enter size : \"))\n",
    "for i in range(0, n):\n",
    "    x = int(input())\n",
    "    list.append(x)\n",
    "print(list)\n",
    "list = list[::-1]\n",
    "print(list)"
   ]
  },
  {
   "cell_type": "markdown",
   "metadata": {},
   "source": [
    "### 07) Python program to remove multiple elements from a list using list comprehension"
   ]
  },
  {
   "cell_type": "code",
   "execution_count": 19,
   "metadata": {},
   "outputs": [
    {
     "name": "stdout",
     "output_type": "stream",
     "text": [
      "[1, 2, 3, 4]\n"
     ]
    }
   ],
   "source": [
    "list=[]\n",
    "n=int(input(\"Enter size : \"))\n",
    "for i in range(0,n):\n",
    "    x=int(input(\"Enter element : \"))\n",
    "    list.append(x)\n",
    "list=[num for num in list if num%5!=0]\n",
    "print(list)"
   ]
  },
  {
   "cell_type": "markdown",
   "metadata": {},
   "source": [
    "### 08) Create a list from the specified start to end index of another list."
   ]
  },
  {
   "cell_type": "code",
   "execution_count": 21,
   "metadata": {},
   "outputs": [
    {
     "name": "stdout",
     "output_type": "stream",
     "text": [
      "[1, 2, 3, 4, 5, 6]\n"
     ]
    }
   ],
   "source": [
    "list = []\n",
    "n = int(input(\"Enter size : \"))\n",
    "for i in range(0, n):\n",
    "    x = int(input())\n",
    "    list.append(x)\n",
    "print(list)\n",
    "i1 = int(input(\"Enter first index : \"))\n",
    "i2 = int(input(\"Enter second index : \"))\n",
    "if (i1 < 0):\n",
    "    print(\"Invalid start index\")\n",
    "    quit()\n",
    "if(i2 > len(list)-1):\n",
    "    print(\"Invalid end index\")\n",
    "    quit ()\n",
    "list2 = list[i1:i2+1]"
   ]
  },
  {
   "cell_type": "markdown",
   "metadata": {},
   "source": [
    "### 09) Input comma separated elements, convert into list and print."
   ]
  },
  {
   "cell_type": "code",
   "execution_count": null,
   "metadata": {},
   "outputs": [],
   "source": [
    "_str = input(\"Enter String Comma Separated : \")\n",
    "_str = _str.split(\",\")\n",
    "print(_str)"
   ]
  },
  {
   "cell_type": "markdown",
   "metadata": {},
   "source": [
    "### 01) WAP to count Even and Odd numbers in a List."
   ]
  },
  {
   "cell_type": "code",
   "execution_count": null,
   "metadata": {},
   "outputs": [],
   "source": [
    "n = int(input(\"Enter size : \"))\n",
    "for i in range(0, n):\n",
    "    x = int(input())\n",
    "    list.append(x)\n",
    "print(list)\n",
    "_even_list = [i for i in list if (i%2==0)]\n",
    "print(\"{0} even numbers and {1} odd numbers.\".format(len(_even_list), len(list)-len(_even_list)))"
   ]
  },
  {
   "cell_type": "markdown",
   "metadata": {},
   "source": [
    "### 02) Python program to find N largest and smallest elements from the list"
   ]
  },
  {
   "cell_type": "code",
   "execution_count": null,
   "metadata": {},
   "outputs": [],
   "source": [
    "list = []\n",
    "n = int(input(\"Enter size : \"))\n",
    "for i in range(0, n):\n",
    "    x = int(input())\n",
    "    list.append(x)\n",
    "print(list)\n",
    "list = list.sort()\n",
    "print(list)\n",
    "large=int(input(\"Enter nth Largest : \"))\n",
    "small=int(input(\"Enter nth Smallest : \"))\n",
    "print(list[n-large])\n",
    "print(list[small-1])"
   ]
  },
  {
   "cell_type": "markdown",
   "metadata": {},
   "source": [
    "### 03) WAP to print duplicates from a list of integers"
   ]
  },
  {
   "cell_type": "code",
   "execution_count": null,
   "metadata": {},
   "outputs": [],
   "source": [
    "li=[ 10, 20, 30, -10, -20, 10, 80, -10, -20, 30]\n",
    "n=len(li)\n",
    "dup=[]\n",
    "for i in range(n):\n",
    "    k = i + 1\n",
    "    for j in range(k,n):\n",
    "        if li[i] == li[j] and li[i] not in dup:\n",
    "            dup.append(li[i])\n",
    "print(dup)"
   ]
  }
 ],
 "metadata": {
  "kernelspec": {
   "display_name": "Python 3",
   "language": "python",
   "name": "python3"
  },
  "language_info": {
   "codemirror_mode": {
    "name": "ipython",
    "version": 3
   },
   "file_extension": ".py",
   "mimetype": "text/x-python",
   "name": "python",
   "nbconvert_exporter": "python",
   "pygments_lexer": "ipython3",
   "version": "3.11.0"
  },
  "vscode": {
   "interpreter": {
    "hash": "0d5eec78a37ea6fc2b3284bacdb9ef8ae50d1b9f72a0fc78f32f14c7c428fbcf"
   }
  }
 },
 "nbformat": 4,
 "nbformat_minor": 4
}
