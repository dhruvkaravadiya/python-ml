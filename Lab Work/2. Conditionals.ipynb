{
 "cells": [
  {
   "cell_type": "markdown",
   "metadata": {},
   "source": [
    "\n",
    "<a href='https://www.darshan.ac.in/'> <img src='https://www.darshan.ac.in/Content/media/DU_Logo.svg' width=\"250\" height=\"300\"/></a>\n",
    "<pre>\n",
    "<center><b><h1>Python Programming - 2101CS405</b></center>\n",
    "<center><b><h1>Lab - 2</b></center>    \n",
    "<pre>"
   ]
  },
  {
   "cell_type": "markdown",
   "metadata": {},
   "source": [
    "# if..else.."
   ]
  },
  {
   "cell_type": "markdown",
   "metadata": {},
   "source": [
    "### 01) WAP to check whether the given number is positive or negative."
   ]
  },
  {
   "cell_type": "code",
   "execution_count": null,
   "metadata": {},
   "outputs": [],
   "source": [
    "n = float(input('Input a number: '))\n",
    "print('Positive.' if n > 0 else 'Zero' if n == 0 else 'Negative.')"
   ]
  },
  {
   "cell_type": "markdown",
   "metadata": {},
   "source": [
    "### 02) WAP to check whether the given number is odd or even"
   ]
  },
  {
   "cell_type": "code",
   "execution_count": null,
   "metadata": {},
   "outputs": [],
   "source": [
    "num=int(input(\"Enter any number : \"))\n",
    "if (num % 2) == 0:\n",
    "    print (\"Even\")\n",
    "else:\n",
    "    print (\"Odd\")"
   ]
  },
  {
   "cell_type": "markdown",
   "metadata": {},
   "source": [
    "### 03) WAP to find out largest number from given two numbers using simple if and ternary operator."
   ]
  },
  {
   "cell_type": "code",
   "execution_count": null,
   "metadata": {},
   "outputs": [],
   "source": [
    "#simple if\n",
    "num1, num2 = 20 , 30\n",
    "if num1>num2:\n",
    "  print(num1)\n",
    "else:\n",
    "  print(num2)\n",
    "\n",
    "#ternery\n",
    "num1, num2 = 20 , 30\n",
    "print((num1 if num1>num2 else num2))"
   ]
  },
  {
   "cell_type": "markdown",
   "metadata": {},
   "source": [
    "### 04) WAP to find out largest number from given three numbers."
   ]
  },
  {
   "cell_type": "code",
   "execution_count": null,
   "metadata": {},
   "outputs": [],
   "source": [
    "a = int(input('Enter first number  : '))\n",
    "b = int(input('Enter second number : '))\n",
    "c = int(input('Enter third number  : '))\n",
    "\n",
    "largest = 0\n",
    "\n",
    "if a > b and a > c :\n",
    "    largest = a\n",
    "elif b > c and b > a :\n",
    "    largest = b\n",
    "else :\n",
    "    largest = c\n",
    "\n",
    "print(largest, \" is the largest of three numbers.\")"
   ]
  },
  {
   "cell_type": "markdown",
   "metadata": {},
   "source": [
    "### 05) WAP to check whether the given year is leap year or not.\n",
    "[If a year can be divisible by 4 but not divisible by 100 then it is leap year but if it is divisible by 400 then it is leap year]"
   ]
  },
  {
   "cell_type": "code",
   "execution_count": null,
   "metadata": {},
   "outputs": [],
   "source": [
    "year = int(input(\"Enter year : \"))\n",
    "if year%4==0 and year%100!=0:\n",
    "    print(\"Leap Year\")\n",
    "else:\n",
    "    print(\"Not Leap Year\")"
   ]
  },
  {
   "cell_type": "markdown",
   "metadata": {},
   "source": [
    "### 06) WAP in python to display the name of the day according to the number given by the user"
   ]
  },
  {
   "cell_type": "code",
   "execution_count": 1,
   "metadata": {},
   "outputs": [
    {
     "name": "stdout",
     "output_type": "stream",
     "text": [
      "\n",
      "Monday\n"
     ]
    }
   ],
   "source": [
    "day = int(input(\"Enter day day number (1-7) : \"))\n",
    "if day == 1 :\n",
    "    print(\"\\nMonday\");\n",
    "elif day == 2 :\n",
    "    print(\"\\nTuesday\")\n",
    "elif(day == 3) :\n",
    "    print(\"\\nWednesday\")\n",
    "elif(day == 4) :\n",
    "    print(\"\\nThursday\")\n",
    "elif(day == 5) :\n",
    "    print(\"\\nFriday\")\n",
    "elif(day == 6) :\n",
    "    print(\"\\nSaturday\")\n",
    "elif (day == 7) :\n",
    "    print(\"\\nSunday\")\n",
    "else :\n",
    "    print(\"\\nPlease enter day number between 1-7.\")"
   ]
  },
  {
   "cell_type": "markdown",
   "metadata": {},
   "source": [
    "### 07) WAP to implement simple calculator which performs (add,sub,mul,div) of two no. based on user input."
   ]
  },
  {
   "cell_type": "code",
   "execution_count": null,
   "metadata": {},
   "outputs": [],
   "source": [
    "choice = int(input(\"Enter your choice:n\"))  # User's choice[1,2,3,4]if (choice>=1 and choice<=4):\n",
    "print(\"Enter two numbers: \")\n",
    "num1 = int(input())\n",
    "num2 = int(input())\n",
    "\n",
    "if choice == 1: \n",
    "    res = num1 + num2\n",
    "    print(\"Sum = \", res)\n",
    "\n",
    "elif choice == 2: \n",
    "    res = num1 - num2\n",
    "    print(\"Difference = \", res)\n",
    "\n",
    "elif choice == 3: \n",
    "    res = num1 * num2\n",
    "    print(\"Product = \", res)\n",
    "\n",
    "elif choice == 4: # To get quotient with decimal value\n",
    "    res = num1 / num2\n",
    "    print(\"Division = \", res)\n",
    "\n",
    "elif choice == 5:\n",
    "    exit()\n",
    "else:\n",
    "    print(\"Wrong input\")"
   ]
  },
  {
   "cell_type": "markdown",
   "metadata": {},
   "source": [
    "### 08) WAP to calculate electricity bill based on following criteria. Which takes the unit from the user.\n",
    "a. First 1 to 50 units – Rs. 2.60/unit</br>\n",
    "b. Next 50 to 100 units – Rs. 3.25/unit</br>\n",
    "c. Next 100 to 200 units – Rs. 5.26/unit</br>\n",
    "d. above 200 units – Rs. 8.45/unit"
   ]
  },
  {
   "cell_type": "code",
   "execution_count": 1,
   "metadata": {},
   "outputs": [
    {
     "name": "stdout",
     "output_type": "stream",
     "text": [
      "450.29999999999995\n"
     ]
    }
   ],
   "source": [
    "unit = int(input(\"Enter bill amount : \"))\n",
    "bill=0\n",
    "#using simple if ladder\n",
    "if unit>=1 and unit<=50:\n",
    "    bill = unit * 2.60\n",
    "elif unit>50 and unit <=100:\n",
    "    unit=unit-50\n",
    "    bill = (unit*3.25)+(50*2.60)\n",
    "elif unit>100 and unit<=200:\n",
    "    unit=unit-100\n",
    "    bill = (unit*5.26) + (50*2.60) + (50*3.25)\n",
    "else:\n",
    "     unit=unit-200\n",
    "     bill = (unit*8.45)+ (50*2.60) + (50*3.25) + (100*5.26)\n",
    "print(bill)\n",
    "  "
   ]
  },
  {
   "cell_type": "markdown",
   "metadata": {},
   "source": [
    "### 01) WAP to read marks of five subjects. Calculate percentage and print class accordingly. \n",
    "Fail below 35 </br>\n",
    "Pass Class between 35 to 45 </br>\n",
    "Second Class</br>\n",
    "between 45 to 60</br>\n",
    "First Class between 60 to 70</br> \n",
    "Distinction if more than 70"
   ]
  },
  {
   "cell_type": "code",
   "execution_count": null,
   "metadata": {},
   "outputs": [],
   "source": [
    "s1 = int(input(\"Enter marks in S1 : \"))\n",
    "s2 = int(input(\"Enter marks in S2 : \"))\n",
    "s3 = int(input(\"Enter marks in S3 : \"))\n",
    "s4 = int(input(\"Enter marks in S4 : \"))\n",
    "s5 = int(input(\"Enter marks in S5 : \"))\n",
    "total = s1+s2+s3+s4+s5\n",
    "percent = total/5\n",
    "if percent<=35:\n",
    "    print(\"Fail\")\n",
    "elif percent>35 and percent<=45:\n",
    "    print(\"Pass Class\")\n",
    "elif percent>45 and percent<=60:\n",
    "    print(\"Second Class\")\n",
    "elif percent>60 and percent<=70:\n",
    "    print(\"First Class\")\n",
    "else:\n",
    "    print(\"Distinction\")"
   ]
  },
  {
   "cell_type": "markdown",
   "metadata": {},
   "source": [
    "### 02) WAP to find out the Maximum and Minimum number from given 4 numbers."
   ]
  },
  {
   "cell_type": "code",
   "execution_count": null,
   "metadata": {},
   "outputs": [],
   "source": [
    "a = int(input(\"Enter number A : \"))\n",
    "b = int(input(\"Enter number B : \"))\n",
    "c = int(input(\"Enter number C : \"))\n",
    "d = int(input(\"Enter number D : \"))\n",
    "testMax = d\n",
    "x = a if a>b and a>c else b if b>c and b>a else c\n",
    "max = x if x>testMax else testMax\n",
    "print(f\"Max is {max}\")\n",
    "\n",
    "testMin = a\n",
    "x = b if b<c and b <d else d if d<b and d<c else c\n",
    "min = x if x<testMin else testMin\n",
    "print(f\"Min is {min}\")"
   ]
  },
  {
   "cell_type": "markdown",
   "metadata": {},
   "source": [
    "### 03) WAP to input an integer number and check the last digit of number is even or odd."
   ]
  },
  {
   "cell_type": "code",
   "execution_count": null,
   "metadata": {},
   "outputs": [],
   "source": [
    "n = int(input(\"Enter number : \"))\n",
    "if (n % 10)%2==0:\n",
    "    print(\"Even\")\n",
    "else:\n",
    "    print(\"Odd\")"
   ]
  },
  {
   "cell_type": "markdown",
   "metadata": {},
   "source": [
    "### 04) WAP to determine the roots of the equation ax2+bx+c=0."
   ]
  },
  {
   "cell_type": "code",
   "execution_count": null,
   "metadata": {},
   "outputs": [],
   "source": [
    "import math\n",
    "a = int(input(\"Enter a : \"))\n",
    "b = int(input(\"Enter b : \"))\n",
    "c = int(input(\"Enter c : \"))\n",
    "d = (b * b) - (4 * a * c)\n",
    "if(d > 0):\n",
    "    root1 = (-b + math.sqrt(d) / (2 * a))\n",
    "    root2 = (-b - math.sqrt(d) / (2 * a))\n",
    "    print(\"Two Distinct Real Roots Exists : root1 = %.2f and root2 = %.2f\" %(root1, root2))\n",
    "elif(d == 0):\n",
    "    root1 = root2 = -b / (2 * a)\n",
    "    print(\"Two Equal and Real Roots Exists: root1 = %.2f and root2 = %.2f\" %(root1, root2))\n",
    "elif(d < 0):\n",
    "    root1 = root2 = -b / (2 * a)\n",
    "    imaginary = math.sqrt(-d) / (2 * a)\n",
    "    print(\"Two Distinct Complex Roots Exists: root1 = %.2f+%.2f and root2 = %.2f-%.2f\" %(root1, imaginary, root2, imaginary))"
   ]
  }
 ],
 "metadata": {
  "kernelspec": {
   "display_name": "Python 3",
   "language": "python",
   "name": "python3"
  },
  "language_info": {
   "codemirror_mode": {
    "name": "ipython",
    "version": 3
   },
   "file_extension": ".py",
   "mimetype": "text/x-python",
   "name": "python",
   "nbconvert_exporter": "python",
   "pygments_lexer": "ipython3",
   "version": "3.10.12"
  },
  "vscode": {
   "interpreter": {
    "hash": "0d5eec78a37ea6fc2b3284bacdb9ef8ae50d1b9f72a0fc78f32f14c7c428fbcf"
   }
  }
 },
 "nbformat": 4,
 "nbformat_minor": 4
}
