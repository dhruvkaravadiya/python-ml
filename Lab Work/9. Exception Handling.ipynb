{
 "cells": [
  {
   "cell_type": "markdown",
   "metadata": {},
   "source": [
    "<a href='https://www.darshan.ac.in/'> <img src='https://www.darshan.ac.in/Content/media/DU_Logo.svg' width=\"250\" height=\"300\"/></a>\n",
    "<pre>\n",
    "<center><b><h1>Python Programming - 2101CS405</b></center>\n",
    "<center><b><h1>Lab - 9</b></center>    \n",
    "<pre>"
   ]
  },
  {
   "cell_type": "markdown",
   "metadata": {},
   "source": [
    "# Exception Handling"
   ]
  },
  {
   "cell_type": "markdown",
   "metadata": {},
   "source": [
    "# A"
   ]
  },
  {
   "cell_type": "markdown",
   "metadata": {},
   "source": [
    "### 01) WAP to handle divide by zero exception."
   ]
  },
  {
   "cell_type": "code",
   "execution_count": null,
   "metadata": {},
   "outputs": [],
   "source": [
    "try:\n",
    "    x=int(input(\"Enter number : \"))\n",
    "    print(x/0)\n",
    "except (ValueError,ZeroDivisionError):\n",
    "    print(\"Error\")"
   ]
  },
  {
   "cell_type": "markdown",
   "metadata": {},
   "source": [
    "### 02)  Write a Python program that inputs a number and generates an error message if it is not a number."
   ]
  },
  {
   "cell_type": "code",
   "execution_count": 5,
   "metadata": {},
   "outputs": [
    {
     "name": "stdout",
     "output_type": "stream",
     "text": [
      "invalid literal for int() with base 10: 'sd'\n"
     ]
    }
   ],
   "source": [
    "try:\n",
    "    x=int(input(\"Enter number : \"))\n",
    "    print(\"Is Number\")\n",
    "except ValueError as e:\n",
    "    print(e)"
   ]
  },
  {
   "cell_type": "markdown",
   "metadata": {},
   "source": [
    "### 03) WAP to handle file not found Exception"
   ]
  },
  {
   "cell_type": "code",
   "execution_count": 6,
   "metadata": {},
   "outputs": [
    {
     "name": "stdout",
     "output_type": "stream",
     "text": [
      "[Errno 2] No such file or directory: 'dhruv.txt'\n"
     ]
    }
   ],
   "source": [
    "try:\n",
    "    f=open(\"dhruv.txt\")\n",
    "except FileNotFoundError as ef:\n",
    "    print(ef)"
   ]
  },
  {
   "cell_type": "markdown",
   "metadata": {},
   "source": [
    "### 04) WAP to handle type Exception."
   ]
  },
  {
   "cell_type": "code",
   "execution_count": 7,
   "metadata": {},
   "outputs": [
    {
     "ename": "ValueError",
     "evalue": "invalid literal for int() with base 10: 'df'",
     "output_type": "error",
     "traceback": [
      "\u001b[1;31m---------------------------------------------------------------------------\u001b[0m",
      "\u001b[1;31mValueError\u001b[0m                                Traceback (most recent call last)",
      "Cell \u001b[1;32mIn[7], line 2\u001b[0m\n\u001b[0;32m      1\u001b[0m \u001b[39mtry\u001b[39;00m:\n\u001b[1;32m----> 2\u001b[0m     x\u001b[39m=\u001b[39m\u001b[39mint\u001b[39;49m(\u001b[39minput\u001b[39;49m(\u001b[39m\"\u001b[39;49m\u001b[39mEnter number : \u001b[39;49m\u001b[39m\"\u001b[39;49m))\n\u001b[0;32m      3\u001b[0m     \u001b[39mprint\u001b[39m(\u001b[39m\"\u001b[39m\u001b[39mCorrect Type\u001b[39m\u001b[39m\"\u001b[39m)\n\u001b[0;32m      4\u001b[0m \u001b[39mexcept\u001b[39;00m \u001b[39mTypeError\u001b[39;00m \u001b[39mas\u001b[39;00m e:\n",
      "\u001b[1;31mValueError\u001b[0m: invalid literal for int() with base 10: 'df'"
     ]
    }
   ],
   "source": [
    "try:\n",
    "    x=int(input(\"Enter number : \"))\n",
    "    print(\"Correct Type\")\n",
    "except TypeError as e:\n",
    "    print(e)"
   ]
  },
  {
   "cell_type": "markdown",
   "metadata": {},
   "source": [
    "### 05) WAP to demonstrate valueError and indexError with example."
   ]
  },
  {
   "cell_type": "code",
   "execution_count": 10,
   "metadata": {},
   "outputs": [
    {
     "name": "stdout",
     "output_type": "stream",
     "text": [
      "list index out of range\n"
     ]
    }
   ],
   "source": [
    "try:\n",
    "    list = [1,2,3,4,5]\n",
    "    ind = int(input(\"Enter index : \"))\n",
    "    print(list[ind])\n",
    "except ValueError as e:\n",
    "    print(e)\n",
    "except IndexError as e:\n",
    "    print(e)"
   ]
  },
  {
   "cell_type": "markdown",
   "metadata": {},
   "source": [
    "### 06) WAP to domonstrate else  and finally block."
   ]
  },
  {
   "cell_type": "code",
   "execution_count": 11,
   "metadata": {},
   "outputs": [
    {
     "name": "stdout",
     "output_type": "stream",
     "text": [
      "2\n",
      "Finally block executed\n",
      "integer division or modulo by zero\n",
      "Finally block executed\n"
     ]
    }
   ],
   "source": [
    "def division(a,b):\n",
    "    try:\n",
    "        answer=a//b\n",
    "    except ZeroDivisionError as e:\n",
    "        print(e)\n",
    "    else:\n",
    "        print(answer)\n",
    "    finally:\n",
    "        print(\"Finally block executed\")\n",
    "division(4,2)\n",
    "division(4,0)"
   ]
  },
  {
   "cell_type": "markdown",
   "metadata": {},
   "source": [
    "### 07) Create a short program that prompts the user for a list of grades separated by commas. Split the string into individual grades and use a list comprehension to convert each string to an integer. You should use a try statement to inform the user when the values they entered cannot be converted."
   ]
  },
  {
   "cell_type": "code",
   "execution_count": 23,
   "metadata": {},
   "outputs": [
    {
     "name": "stdout",
     "output_type": "stream",
     "text": [
      "invalid literal for int() with base 10: 'w'\n"
     ]
    }
   ],
   "source": [
    "try:\n",
    "    string = input(\"Enter List separated by commas : \")\n",
    "    list=string.split(\",\")\n",
    "    for i in range(0,len(list)):\n",
    "        list[i] =int(list[i])\n",
    "except ValueError as e:\n",
    "    print(e)\n",
    "else:\n",
    "    print(list)\n"
   ]
  },
  {
   "cell_type": "markdown",
   "metadata": {},
   "source": [
    "# B"
   ]
  },
  {
   "cell_type": "markdown",
   "metadata": {},
   "source": [
    "### 01) WAP to Raising User Generated Exception."
   ]
  },
  {
   "cell_type": "code",
   "execution_count": 24,
   "metadata": {},
   "outputs": [
    {
     "name": "stdout",
     "output_type": "stream",
     "text": [
      "division by zero\n"
     ]
    }
   ],
   "source": [
    "try:\n",
    "    n = int(input(\"Enter number : \"))\n",
    "    answer = 10/n\n",
    "    raise ZeroDivisionError\n",
    "except ZeroDivisionError as ze:\n",
    "    print(ze)\n",
    "else:\n",
    "    print(answer)"
   ]
  },
  {
   "cell_type": "markdown",
   "metadata": {},
   "source": [
    "### 02) WAP to raise your custom Exception."
   ]
  },
  {
   "cell_type": "code",
   "execution_count": 2,
   "metadata": {},
   "outputs": [
    {
     "name": "stdout",
     "output_type": "stream",
     "text": [
      "Custom Exception\n"
     ]
    }
   ],
   "source": [
    "class OddNumberException(Exception):\n",
    "    \"Raised when number is Odd Number\"\n",
    "    def __init__(self, arg=\"Custom Exception\"):\n",
    "        self.arg=arg\n",
    "try:\n",
    "    a=int(input(\"Enter a number : \"))\n",
    "    if a%2==0:\n",
    "        print(\"Even Number\")\n",
    "    else:\n",
    "        raise OddNumberException()\n",
    "except OddNumberException as oe:\n",
    "    print(oe.arg)\n"
   ]
  }
 ],
 "metadata": {
  "kernelspec": {
   "display_name": "Python 3",
   "language": "python",
   "name": "python3"
  },
  "language_info": {
   "codemirror_mode": {
    "name": "ipython",
    "version": 3
   },
   "file_extension": ".py",
   "mimetype": "text/x-python",
   "name": "python",
   "nbconvert_exporter": "python",
   "pygments_lexer": "ipython3",
   "version": "3.11.2"
  },
  "vscode": {
   "interpreter": {
    "hash": "0d5eec78a37ea6fc2b3284bacdb9ef8ae50d1b9f72a0fc78f32f14c7c428fbcf"
   }
  }
 },
 "nbformat": 4,
 "nbformat_minor": 4
}
