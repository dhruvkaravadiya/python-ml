{
 "cells": [
  {
   "cell_type": "markdown",
   "metadata": {},
   "source": [
    "<a href='https://www.darshan.ac.in/'> <img src='https://www.darshan.ac.in/Content/media/DU_Logo.svg' width=\"250\" height=\"300\"/></a>\n",
    "<pre>\n",
    "<center><b><h1>Python Programming - 2101CS405</b></center>\n",
    "<center><b><h1>Lab - 1</b></center>    \n",
    "<pre>"
   ]
  },
  {
   "cell_type": "markdown",
   "metadata": {},
   "source": [
    "### 01) WAP to print “Hello World”"
   ]
  },
  {
   "cell_type": "code",
   "execution_count": 1,
   "metadata": {},
   "outputs": [
    {
     "name": "stdout",
     "output_type": "stream",
     "text": [
      "hello World\n"
     ]
    }
   ],
   "source": [
    "print(\"hello World\")"
   ]
  },
  {
   "cell_type": "markdown",
   "metadata": {},
   "source": [
    "### 02) WAP to print your address i) using single print ii) using multiple print"
   ]
  },
  {
   "cell_type": "code",
   "execution_count": null,
   "metadata": {},
   "outputs": [],
   "source": [
    "#using single print\n",
    "print(\"Chochlate Appartment - 401 , London Highway , Mars - 999999\");\n",
    "\n",
    "#using multiple print\n",
    "print(\"Chochlate Apartment - 401, \")\n",
    "print(\"London Highway ,\")\n",
    "print(\"Mars - 999999\")"
   ]
  },
  {
   "cell_type": "markdown",
   "metadata": {},
   "source": [
    "### 03) WAP to print addition of 2 numbers (without input function)"
   ]
  },
  {
   "cell_type": "code",
   "execution_count": null,
   "metadata": {},
   "outputs": [],
   "source": [
    "a=2\n",
    "b=4\n",
    "print(f\"Sum = {a+b}\")"
   ]
  },
  {
   "cell_type": "markdown",
   "metadata": {},
   "source": [
    "### 04) WAP to calculate and print average of 2 numbers (without input function)"
   ]
  },
  {
   "cell_type": "code",
   "execution_count": null,
   "metadata": {},
   "outputs": [],
   "source": [
    "a = int(input(\"Enter number 1 : \"))\n",
    "b = int(input(\"Enter number 2 : \"))\n",
    "print(f\"Average = {(a+b)/2}\")"
   ]
  },
  {
   "cell_type": "markdown",
   "metadata": {},
   "source": [
    "### 05) WAP to add two number entered by user."
   ]
  },
  {
   "cell_type": "code",
   "execution_count": null,
   "metadata": {},
   "outputs": [],
   "source": [
    "a = int(input(\"Enter number 1 : \"))\n",
    "b = int(input(\"Enter number 2 : \"))\n",
    "print(f\"Sum = {a+b}\")"
   ]
  },
  {
   "cell_type": "markdown",
   "metadata": {},
   "source": [
    "### 06) WAP to calculate simple interest."
   ]
  },
  {
   "cell_type": "code",
   "execution_count": null,
   "metadata": {},
   "outputs": [],
   "source": [
    "p = int(input(\"Enter principle amount : \"))\n",
    "r = int(input(\"Enter rate : \"))\n",
    "n = int(input(\"Enter years : \"))\n",
    "print(f\"Sum = {(p*r*n)/100}\")"
   ]
  },
  {
   "cell_type": "markdown",
   "metadata": {},
   "source": [
    "### 07) WAP Calculate Area and Circumfrence of Circle"
   ]
  },
  {
   "cell_type": "code",
   "execution_count": null,
   "metadata": {},
   "outputs": [],
   "source": [
    "r = int(input(\"Enter radius : \"))\n",
    "print(f\"Area = {3.14 * r * r}\")\n",
    "print(f\"Circumference = {2 * 3.14 * r}\")"
   ]
  },
  {
   "cell_type": "markdown",
   "metadata": {},
   "source": [
    "### 08) WAP to print Multiplication table of given number without using loops."
   ]
  },
  {
   "cell_type": "code",
   "execution_count": null,
   "metadata": {},
   "outputs": [],
   "source": [
    "n = int(input(\"Enter a number : \"))\n",
    "print(f\"{n} * 1 = {n*1}\")\n",
    "print(f\"{n} * 2 = {n*3}\")\n",
    "print(f\"{n} * 3 = {n*3}\")\n",
    "print(f\"{n} * 4 = {n*4}\")\n",
    "print(f\"{n} * 5 = {n*5}\")\n",
    "print(f\"{n} * 6 = {n*6}\")\n",
    "print(f\"{n} * 7 = {n*7}\")\n",
    "print(f\"{n} * 8 = {n*8}\")\n",
    "print(f\"{n} * 9 = {n*9}\")\n",
    "print(f\"{n} * 10 = {n*10}\")\n"
   ]
  },
  {
   "cell_type": "markdown",
   "metadata": {},
   "source": [
    "### 09) WAP to calculate Area of Triangle (hint: a = h * b * 0.5)"
   ]
  },
  {
   "cell_type": "code",
   "execution_count": null,
   "metadata": {},
   "outputs": [],
   "source": [
    "h = int(input(\"Enter a height : \"))\n",
    "b = int(input(\"Enter a breadth : \"))\n",
    "print(f\"Area of triangle : {h*b*0.5}\")"
   ]
  },
  {
   "cell_type": "markdown",
   "metadata": {},
   "source": [
    "### 10) WAP to convert degree to Fahrenheit and vice versa."
   ]
  },
  {
   "cell_type": "code",
   "execution_count": 1,
   "metadata": {},
   "outputs": [
    {
     "name": "stdout",
     "output_type": "stream",
     "text": [
      "102.0 Degree Celsius = 215.6 Degree Fahrenheit\n",
      "101.0 degree Fahrenheit is equal to 38.333333333333336 degree Celsius.\n"
     ]
    }
   ],
   "source": [
    "#Celsius to Fahrenheit\n",
    "celsius = float(input(\"Enter temperature in celsius: \"))\n",
    "fahrenheit = (celsius * 1.8) + 32\n",
    "print(f\"{celsius} Degree Celsius = {fahrenheit} Degree Fahrenheit\")\n",
    "\n",
    "#Fahrenheit to Ceslius\n",
    "fahrenheit = float(input(\"Enter temperature in fahrenheit: \"))\n",
    "celsius = (fahrenheit - 32)/1.8\n",
    "print(str(fahrenheit )+ \" degree Fahrenheit is equal to \" + str(celsius ) + \" degree Celsius.\" )\n"
   ]
  },
  {
   "cell_type": "markdown",
   "metadata": {},
   "source": [
    "### 11) WAP to calculate total marks and Percentage."
   ]
  },
  {
   "cell_type": "code",
   "execution_count": null,
   "metadata": {},
   "outputs": [],
   "source": [
    "s1 = int(input(\"Enter marks in S1 : \"))\n",
    "s2 = int(input(\"Enter marks in S2 : \"))\n",
    "s3 = int(input(\"Enter marks in S3 : \"))\n",
    "s4 = int(input(\"Enter marks in S4 : \"))\n",
    "s5 = int(input(\"Enter marks in S5 : \"))\n",
    "total = s1+s2+s3+s4+s5\n",
    "print(f\"Total = {total}\")\n",
    "print(f\"Percentage = {total/5}\")"
   ]
  },
  {
   "cell_type": "markdown",
   "metadata": {},
   "source": [
    "### 12) Compute distance between two points taking input from the user (Pythagorean Theorem)."
   ]
  },
  {
   "cell_type": "code",
   "execution_count": null,
   "metadata": {},
   "outputs": [],
   "source": [
    "x1 = int(input(\"Enter x1 : \"))\n",
    "x2 = int(input(\"Enter x2 : \"))\n",
    "y1 = int(input(\"Enter y1 : \"))\n",
    "y2 = int(input(\"Enter y2 : \"))\n",
    "print(f\"Distance : {0.5*(((x1-x2)*(x1-x2)) + ((y1-y2)*(y1-y2)))}\")"
   ]
  },
  {
   "cell_type": "markdown",
   "metadata": {},
   "source": [
    "### 13) WAP to convert seconds into hours, minutes & seconds and print in HH:MM:SS\n",
    "[e.g. 10000 seconds mean 2:46:40 (2 Hours, 46 Minutes, 40Seconds)]"
   ]
  },
  {
   "cell_type": "code",
   "execution_count": null,
   "metadata": {},
   "outputs": [],
   "source": [
    "sec=int(input(\"Enter Seconds : \"))\n",
    "h=sec//3600\n",
    "sec=sec%3600\n",
    "mine=sec//60\n",
    "seconds=sec%60\n",
    "\n",
    "print(f\"{h} H : {mine} Min : {seconds} sec\")\n"
   ]
  },
  {
   "cell_type": "markdown",
   "metadata": {},
   "source": [
    "### 14) WAP to enter distance into kilometer and convert it into meter, feet,inches, and centimeter"
   ]
  },
  {
   "cell_type": "code",
   "execution_count": null,
   "metadata": {},
   "outputs": [
    {
     "ename": "",
     "evalue": "",
     "output_type": "error",
     "traceback": [
      "\u001b[1;31mRunning cells with '/bin/python3' requires the ipykernel package.\n",
      "\u001b[1;31mRun the following command to install 'ipykernel' into the Python environment. \n",
      "\u001b[1;31mCommand: '/bin/python3 -m pip install ipykernel -U --user --force-reinstall'"
     ]
    }
   ],
   "source": [
    "km = float(input(\"Enter distance in kms : \"))\n",
    "m = km*1000\n",
    "fts = km*3280.84\n",
    "inch = km*39370.08\n",
    "cm = km*100000.0032\n",
    "print(f\"{km}kms in : \")\n",
    "print(f\"meters : {m}\")\n",
    "print(f\"feets : {fts}\")\n",
    "print(f\"inches : {inch}\")\n",
    "print(f\"centimeters : {cm}\")"
   ]
  }
 ],
 "metadata": {
  "kernelspec": {
   "display_name": "Python 3",
   "language": "python",
   "name": "python3"
  },
  "language_info": {
   "codemirror_mode": {
    "name": "ipython",
    "version": 3
   },
   "file_extension": ".py",
   "mimetype": "text/x-python",
   "name": "python",
   "nbconvert_exporter": "python",
   "pygments_lexer": "ipython3",
   "version": "3.10.12"
  },
  "vscode": {
   "interpreter": {
    "hash": "0d5eec78a37ea6fc2b3284bacdb9ef8ae50d1b9f72a0fc78f32f14c7c428fbcf"
   }
  }
 },
 "nbformat": 4,
 "nbformat_minor": 4
}
