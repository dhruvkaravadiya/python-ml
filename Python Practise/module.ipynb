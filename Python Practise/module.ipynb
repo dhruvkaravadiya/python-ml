{
 "cells": [
  {
   "attachments": {},
   "cell_type": "markdown",
   "metadata": {},
   "source": [
    "# Random Module"
   ]
  },
  {
   "cell_type": "code",
   "execution_count": 16,
   "metadata": {},
   "outputs": [
    {
     "name": "stdout",
     "output_type": "stream",
     "text": [
      "0.5507846417600732\n"
     ]
    }
   ],
   "source": [
    "#Random module\n",
    "import random\n",
    "\n",
    "print(random.random())"
   ]
  },
  {
   "cell_type": "code",
   "execution_count": 8,
   "metadata": {},
   "outputs": [
    {
     "name": "stdout",
     "output_type": "stream",
     "text": [
      "5.868764970661349\n"
     ]
    }
   ],
   "source": [
    "print(random.uniform(1,10))"
   ]
  },
  {
   "cell_type": "code",
   "execution_count": 9,
   "metadata": {},
   "outputs": [
    {
     "name": "stdout",
     "output_type": "stream",
     "text": [
      "0.23796462709189137\n"
     ]
    }
   ],
   "source": [
    "random.seed(3)\n",
    "print(random.random())"
   ]
  },
  {
   "cell_type": "code",
   "execution_count": 10,
   "metadata": {},
   "outputs": [
    {
     "name": "stdout",
     "output_type": "stream",
     "text": [
      "Shuffled List : [2, 8, 10, 1, 7, 4, 5, 6, 3, 9]\n"
     ]
    }
   ],
   "source": [
    "list=[1,2,3,4,5,6,7,8,9,10]\n",
    "random.shuffle(list)\n",
    "print(f\"Shuffled List : {list}\")"
   ]
  },
  {
   "cell_type": "code",
   "execution_count": 11,
   "metadata": {},
   "outputs": [
    {
     "name": "stdout",
     "output_type": "stream",
     "text": [
      "8\n"
     ]
    }
   ],
   "source": [
    "list=[1,2,3,4,5,6,7,8,9,10]\n",
    "print(random.choice(list))"
   ]
  },
  {
   "cell_type": "code",
   "execution_count": 12,
   "metadata": {},
   "outputs": [
    {
     "name": "stdout",
     "output_type": "stream",
     "text": [
      "14\n"
     ]
    }
   ],
   "source": [
    "print(random.randint(10,20))"
   ]
  },
  {
   "cell_type": "code",
   "execution_count": null,
   "metadata": {},
   "outputs": [],
   "source": [
    "print(random.randrange(1,100,3))"
   ]
  },
  {
   "attachments": {},
   "cell_type": "markdown",
   "metadata": {},
   "source": [
    "# Math Module"
   ]
  },
  {
   "cell_type": "code",
   "execution_count": 15,
   "metadata": {},
   "outputs": [],
   "source": [
    "# math module\n",
    "import math"
   ]
  },
  {
   "cell_type": "code",
   "execution_count": 13,
   "metadata": {},
   "outputs": [
    {
     "name": "stdout",
     "output_type": "stream",
     "text": [
      "2.718281828459045\n",
      "3.141592653589793\n",
      "6.283185307179586\n",
      "inf\n",
      "nan\n"
     ]
    }
   ],
   "source": [
    "print(math.e)\n",
    "print(math.pi)\n",
    "print(math.tau)\n",
    "print(math.inf)\n",
    "print(math.nan)"
   ]
  },
  {
   "cell_type": "code",
   "execution_count": 24,
   "metadata": {},
   "outputs": [
    {
     "name": "stdout",
     "output_type": "stream",
     "text": [
      "Ceil : 11\n",
      "Ceil : 10\n",
      "Factorial : 120\n",
      "Gcd : 5\n",
      "e^2 : 7.38905609893065\n",
      "Sin 60 : -0.3048106211022167\n",
      "Cos 60 : -0.9524129804151563\n",
      "Absolute Value : 209.0\n",
      "Power : 16.0\n",
      "Square Root : 4.0\n"
     ]
    }
   ],
   "source": [
    "print(f\"Ceil : {math.ceil(10.5)}\")\n",
    "print(f\"Ceil : {math.floor(10.5)}\")\n",
    "print(f\"Factorial : {math.factorial(5)}\")\n",
    "print(f\"Gcd : {math.gcd(5)}\")\n",
    "print(f\"e^2 : {math.exp(2)}\")\n",
    "print(f\"Sin 60 : {math.sin(60)}\")\n",
    "print(f\"Cos 60 : {math.cos(60)}\")\n",
    "print(f\"Absolute Value : {math.fabs(-209)}\")\n",
    "print(f\"Power : {math.pow(2,4)}\")\n",
    "print(f\"Square Root : {math.sqrt(16)}\")"
   ]
  },
  {
   "cell_type": "code",
   "execution_count": null,
   "metadata": {},
   "outputs": [],
   "source": []
  }
 ],
 "metadata": {
  "kernelspec": {
   "display_name": "Python 3",
   "language": "python",
   "name": "python3"
  },
  "language_info": {
   "codemirror_mode": {
    "name": "ipython",
    "version": 3
   },
   "file_extension": ".py",
   "mimetype": "text/x-python",
   "name": "python",
   "nbconvert_exporter": "python",
   "pygments_lexer": "ipython3",
   "version": "3.11.2"
  },
  "orig_nbformat": 4
 },
 "nbformat": 4,
 "nbformat_minor": 2
}
